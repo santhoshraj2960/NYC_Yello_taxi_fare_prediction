{
  "nbformat": 4,
  "nbformat_minor": 0,
  "metadata": {
    "colab": {
      "name": "Untitled2.ipynb",
      "provenance": []
    },
    "kernelspec": {
      "name": "python3",
      "display_name": "Python 3"
    }
  },
  "cells": [
    {
      "cell_type": "code",
      "metadata": {
        "id": "xjUQZYCvEd5Y"
      },
      "source": [
        "!apt-get install openjdk-8-jdk-headless -qq > /dev/null\n",
        "!wget -q https://www-us.apache.org/dist/spark/spark-2.4.7/spark-2.4.7-bin-hadoop2.7.tgz\n",
        "!tar xf spark-2.4.7-bin-hadoop2.7.tgz\n",
        "!pip install -q findspark\n",
        "import os\n",
        "os.environ[\"JAVA_HOME\"] = \"/usr/lib/jvm/java-8-openjdk-amd64\"\n",
        "os.environ[\"SPARK_HOME\"] = \"/content/spark-2.4.7-bin-hadoop2.7\"\n",
        "\n",
        "import findspark\n",
        "findspark.init()\n",
        "from pyspark.sql import SparkSession\n",
        "spark = SparkSession.builder.appName(\"baseball\").getOrCreate()"
      ],
      "execution_count": 21,
      "outputs": []
    },
    {
      "cell_type": "code",
      "metadata": {
        "id": "20EvVssfEj2s"
      },
      "source": [
        "!wget -q 'https://github.com/chadwickbureau/baseballdatabank/raw/master/core/People.csv'  # Player information\n",
        "!wget -q 'https://github.com/chadwickbureau/baseballdatabank/raw/master/core/Batting.csv' # Batting records\n",
        "!wget -q 'https://github.com/chadwickbureau/baseballdatabank/raw/master/core/Pitching.csv' # Pitching records\n",
        "!wget -q 'https://github.com/chadwickbureau/baseballdatabank/raw/master/core/Salaries.csv'"
      ],
      "execution_count": 22,
      "outputs": []
    },
    {
      "cell_type": "code",
      "metadata": {
        "id": "vVvbs10OEq5H",
        "outputId": "6355ef98-1611-4bc3-ffc3-a2c8b60c36ac",
        "colab": {
          "base_uri": "https://localhost:8080/",
          "height": 272
        }
      },
      "source": [
        "df_pitcher = spark.read.csv('Pitching.csv', header=True, inferSchema=True)\n",
        "df_pitcher_career = df_pitcher.groupBy('playerid').sum()\n",
        "#df_pitcher_career.select(['playerid', 'sum(W)']).show()\n",
        "top_ten_wins = df_pitcher_career.sort(df_pitcher_career['sum(W)'].desc()).limit(10)\n",
        "#top_ten_wins.select(['playerId', 'sum(W)']).show()\n",
        "df_people = spark.read.csv('People.csv', header=True, inferSchema=True)\n",
        "joined_df = top_ten_wins.join(df_people, on=['playerID'])\n",
        "joined_df.select(['nameFirst', 'nameLast']).show()"
      ],
      "execution_count": 23,
      "outputs": [
        {
          "output_type": "stream",
          "text": [
            "+---------+---------+\n",
            "|nameFirst| nameLast|\n",
            "+---------+---------+\n",
            "|     Pete|Alexander|\n",
            "|    Roger|  Clemens|\n",
            "|      Pud|   Galvin|\n",
            "|   Walter|  Johnson|\n",
            "|      Tim|    Keefe|\n",
            "|     Greg|   Maddux|\n",
            "|  Christy|Mathewson|\n",
            "|      Kid|  Nichols|\n",
            "|   Warren|    Spahn|\n",
            "|       Cy|    Young|\n",
            "+---------+---------+\n",
            "\n"
          ],
          "name": "stdout"
        }
      ]
    },
    {
      "cell_type": "code",
      "metadata": {
        "id": "eFmSQ5tAEwtH",
        "outputId": "5dc7eb14-d18a-4988-f0da-a1b5f50668f5",
        "colab": {
          "base_uri": "https://localhost:8080/",
          "height": 272
        }
      },
      "source": [
        "df_pitcher = spark.read.csv('Pitching.csv', header=True, inferSchema=True)\n",
        "df_pitcher_career = df_pitcher.groupBy('playerid').sum()\n",
        "#df_pitcher_career.select(['playerid', 'sum(SO)']).show()\n",
        "top_ten_strikeouts = df_pitcher_career.sort(df_pitcher_career['sum(SO)'].desc()).limit(10)\n",
        "#top_ten_strikeouts.select(['playerId', 'sum(SO)']).show()\n",
        "df_people = spark.read.csv('People.csv', header=True, inferSchema=True)\n",
        "joined_df = top_ten_strikeouts.join(df_people, on=['playerID'])\n",
        "joined_df.select(['nameFirst', 'nameLast']).show()"
      ],
      "execution_count": 24,
      "outputs": [
        {
          "output_type": "stream",
          "text": [
            "+---------+--------+\n",
            "|nameFirst|nameLast|\n",
            "+---------+--------+\n",
            "|     Bert|Blyleven|\n",
            "|    Steve| Carlton|\n",
            "|    Roger| Clemens|\n",
            "|    Randy| Johnson|\n",
            "|   Walter| Johnson|\n",
            "|     Greg|  Maddux|\n",
            "|  Gaylord|   Perry|\n",
            "|    Nolan|    Ryan|\n",
            "|      Tom|  Seaver|\n",
            "|      Don|  Sutton|\n",
            "+---------+--------+\n",
            "\n"
          ],
          "name": "stdout"
        }
      ]
    },
    {
      "cell_type": "code",
      "metadata": {
        "id": "ye-xt1B0FCN5",
        "outputId": "00abca4f-f17a-497a-9354-a6d37cf14f58",
        "colab": {
          "base_uri": "https://localhost:8080/",
          "height": 272
        }
      },
      "source": [
        "df_pitcher = spark.read.csv('Pitching.csv', header=True, inferSchema=True)\n",
        "df_pitcher_career = df_pitcher.groupBy('playerid').sum()\n",
        "df_pitcher_career = df_pitcher_career.withColumn('ERA', (27 * df_pitcher_career['sum(ER)'])/df_pitcher_career['sum(IPouts)'])\n",
        "#df_pitcher_career.show()\n",
        "#df_pitcher_career.sort(df_pitcher_career['ERA'].desc()).show()\n",
        "top_ten_era = df_pitcher_career.sort(df_pitcher_career['ERA'].desc()).limit(10)\n",
        "#top_ten_era.select(['playerId', 'ERA']).show()\n",
        "df_people = spark.read.csv('People.csv', header=True, inferSchema=True)\n",
        "joined_df = top_ten_era.join(df_people, on=['playerID'])\n",
        "joined_df.select(['nameFirst', 'nameLast']).show()"
      ],
      "execution_count": 25,
      "outputs": [
        {
          "output_type": "stream",
          "text": [
            "+---------+-----------+\n",
            "|nameFirst|   nameLast|\n",
            "+---------+-----------+\n",
            "|      Joe|     Cleary|\n",
            "|    Fritz|     Fisher|\n",
            "|   Carlos|      Gomez|\n",
            "|   Taylor|      Hearn|\n",
            "|    Harry|   Heitmann|\n",
            "|  Enrique|  Hernandez|\n",
            "|    Ricky|    Pickett|\n",
            "|     Andy|Sommerville|\n",
            "|    Terry|  Wilshusen|\n",
            "|    Frank|       Wurm|\n",
            "+---------+-----------+\n",
            "\n"
          ],
          "name": "stdout"
        }
      ]
    },
    {
      "cell_type": "code",
      "metadata": {
        "id": "HAQEsEk8FQL5",
        "outputId": "d4b19e1e-26f4-4afa-eeb4-19fdb3a2dd11",
        "colab": {
          "base_uri": "https://localhost:8080/",
          "height": 272
        }
      },
      "source": [
        "df_batting = spark.read.csv('Batting.csv', header=True, inferSchema=True)\n",
        "df_batting_career = df_batting.groupBy('playerid').sum()\n",
        "#df_batting_career.show()\n",
        "top_ten_bs = df_batting_career.sort(df_batting_career['sum(SB)'].desc()).limit(10)\n",
        "#top_ten_bs.select(['playerId', 'sum(SB)']).show()\n",
        "df_people = spark.read.csv('People.csv', header=True, inferSchema=True)\n",
        "joined_df = top_ten_bs.join(df_people, on=['playerID'])\n",
        "joined_df.select(['nameFirst', 'nameLast']).show()"
      ],
      "execution_count": 26,
      "outputs": [
        {
          "output_type": "stream",
          "text": [
            "+---------+---------+\n",
            "|nameFirst| nameLast|\n",
            "+---------+---------+\n",
            "|      Lou|    Brock|\n",
            "|      Max|    Carey|\n",
            "|       Ty|     Cobb|\n",
            "|    Vince|  Coleman|\n",
            "|    Eddie|  Collins|\n",
            "|    Billy| Hamilton|\n",
            "|   Rickey|Henderson|\n",
            "|    Arlie|   Latham|\n",
            "|      Tim|   Raines|\n",
            "|    Honus|   Wagner|\n",
            "+---------+---------+\n",
            "\n"
          ],
          "name": "stdout"
        }
      ]
    },
    {
      "cell_type": "code",
      "metadata": {
        "id": "BgHXBE_AFZyI",
        "outputId": "c9378790-6b22-4f01-da61-a88eac8d7914",
        "colab": {
          "base_uri": "https://localhost:8080/",
          "height": 272
        }
      },
      "source": [
        "df_batting = spark.read.csv('Batting.csv', header=True, inferSchema=True)\n",
        "df_batting_career = df_batting.groupBy('playerid').sum()\n",
        "#df_batting_career.show()\n",
        "top_ten_hits = df_batting_career.sort(df_batting_career['sum(H)'].desc()).limit(10)\n",
        "#top_ten_hits.select(['playerId', 'sum(H)']).show()\n",
        "df_people = spark.read.csv('People.csv', header=True, inferSchema=True)\n",
        "joined_df = top_ten_hits.join(df_people, on=['playerID'])\n",
        "joined_df.select(['nameFirst', 'nameLast']).show()"
      ],
      "execution_count": 27,
      "outputs": [
        {
          "output_type": "stream",
          "text": [
            "+---------+-----------+\n",
            "|nameFirst|   nameLast|\n",
            "+---------+-----------+\n",
            "|     Hank|      Aaron|\n",
            "|      Cap|      Anson|\n",
            "|       Ty|       Cobb|\n",
            "|    Derek|      Jeter|\n",
            "|     Paul|    Molitor|\n",
            "|     Stan|     Musial|\n",
            "|     Pete|       Rose|\n",
            "|     Tris|    Speaker|\n",
            "|    Honus|     Wagner|\n",
            "|     Carl|Yastrzemski|\n",
            "+---------+-----------+\n",
            "\n"
          ],
          "name": "stdout"
        }
      ]
    },
    {
      "cell_type": "code",
      "metadata": {
        "id": "NC0OWuPWFfnv",
        "outputId": "ecc5b4e1-1018-43af-a5e4-70332e0b8200",
        "colab": {
          "base_uri": "https://localhost:8080/",
          "height": 272
        }
      },
      "source": [
        "df_batting = spark.read.csv('Batting.csv', header=True, inferSchema=True)\n",
        "df_batting_career = df_batting.groupBy('playerid').sum()\n",
        "df_batting_career = df_batting_career.withColumn('Batting-Avg', (df_batting_career['sum(H)'] + df_batting_career['sum(2B)'] + df_batting_career['sum(3B)'] + df_batting_career['sum(HR)']) / \n",
        "                                                 df_batting_career['sum(AB)'])\n",
        "                                                                 \n",
        "#df_batting_career.show()\n",
        "top_ten_batting_avg = df_batting_career.sort(df_batting_career['Batting-Avg'].desc()).limit(10)\n",
        "#top_ten_batting_avg.select(['playerId', 'Batting-Avg']).show()\n",
        "df_people = spark.read.csv('People.csv', header=True, inferSchema=True)\n",
        "joined_df = top_ten_batting_avg.join(df_people, on=['playerID'])\n",
        "joined_df.select(['nameFirst', 'nameLast']).show()"
      ],
      "execution_count": 28,
      "outputs": [
        {
          "output_type": "stream",
          "text": [
            "+---------+-----------+\n",
            "|nameFirst|   nameLast|\n",
            "+---------+-----------+\n",
            "|     Eric|    Cammack|\n",
            "|      Don|       Eddy|\n",
            "|      Roy|    Gleason|\n",
            "|    Larry|   Loughlin|\n",
            "|      Red|       Lutz|\n",
            "|  Brandon|       Lyon|\n",
            "|    Scott|Munninghoff|\n",
            "|  Branden|     Pinder|\n",
            "|  Charley|      Suche|\n",
            "|    Allie|       Watt|\n",
            "+---------+-----------+\n",
            "\n"
          ],
          "name": "stdout"
        }
      ]
    },
    {
      "cell_type": "code",
      "metadata": {
        "id": "pB2QYYgfFn1u",
        "outputId": "31936fbc-866c-40b8-9fd5-37ed8088f2db",
        "colab": {
          "base_uri": "https://localhost:8080/",
          "height": 272
        }
      },
      "source": [
        "df_salaries = spark.read.csv('Salaries.csv', header=True, inferSchema=True)\n",
        "df_salaries_career = df_salaries.groupBy('playerid').max()\n",
        "#df_salaries.show()\n",
        "#df_salaries_career.show()\n",
        "top_ten_salaries = df_salaries_career.sort(df_salaries_career['max(salary)'].desc()).limit(10)\n",
        "#top_ten_salaries.show()\n",
        "df_people = spark.read.csv('People.csv', header=True, inferSchema=True)\n",
        "joined_df = top_ten_salaries.join(df_people, on=['playerID'])\n",
        "joined_df.select(['nameFirst', 'nameLast']).show()"
      ],
      "execution_count": 29,
      "outputs": [
        {
          "output_type": "stream",
          "text": [
            "+---------+---------+\n",
            "|nameFirst| nameLast|\n",
            "+---------+---------+\n",
            "|   Miguel|  Cabrera|\n",
            "|   Yoenis| Céspedes|\n",
            "|     Zack|  Greinke|\n",
            "|    Felix|Hernandez|\n",
            "|     Ryan|   Howard|\n",
            "|  Clayton|  Kershaw|\n",
            "|    David|    Price|\n",
            "|     Alex|Rodriguez|\n",
            "|   Justin|Verlander|\n",
            "|   Vernon|    Wells|\n",
            "+---------+---------+\n",
            "\n"
          ],
          "name": "stdout"
        }
      ]
    },
    {
      "cell_type": "code",
      "metadata": {
        "id": "E8K0GZjjFwkz",
        "outputId": "202074c1-1542-43bb-c168-823e5c7ff388",
        "colab": {
          "base_uri": "https://localhost:8080/",
          "height": 272
        }
      },
      "source": [
        "df_salaries = spark.read.csv('Salaries.csv', header=True, inferSchema=True)\n",
        "df_salaries_career = df_salaries.groupBy('playerid').avg()\n",
        "#df_salaries_career.show()\n",
        "top_ten_salaries = df_salaries_career.sort(df_salaries_career['avg(salary)'].desc()).limit(10)\n",
        "#top_ten_salaries.show()\n",
        "df_people = spark.read.csv('People.csv', header=True, inferSchema=True)\n",
        "joined_df = top_ten_salaries.join(df_people, on=['playerID'])\n",
        "joined_df.select(['nameFirst', 'nameLast']).show()"
      ],
      "execution_count": 30,
      "outputs": [
        {
          "output_type": "stream",
          "text": [
            "+---------+---------+\n",
            "|nameFirst| nameLast|\n",
            "+---------+---------+\n",
            "|   Miguel|  Cabrera|\n",
            "|   Yoenis| Céspedes|\n",
            "|   Prince|  Fielder|\n",
            "|     Ryan|   Howard|\n",
            "|    Derek|    Jeter|\n",
            "|      Joe|    Mauer|\n",
            "|     Alex|Rodriguez|\n",
            "|       CC| Sabathia|\n",
            "| Masahiro|   Tanaka|\n",
            "|     Mark| Teixeira|\n",
            "+---------+---------+\n",
            "\n"
          ],
          "name": "stdout"
        }
      ]
    },
    {
      "cell_type": "code",
      "metadata": {
        "id": "W07f-IXrF3Ht",
        "outputId": "0675bfca-0821-4606-b5da-528fe2c8e82f",
        "colab": {
          "base_uri": "https://localhost:8080/",
          "height": 272
        }
      },
      "source": [
        "df_salaries = spark.read.csv('Salaries.csv', header=True, inferSchema=True)\n",
        "df_salaries_career = df_salaries.groupBy('playerid').sum()\n",
        "top_ten_salaries = df_salaries_career.sort(df_salaries_career['sum(salary)'].desc()).limit(10)\n",
        "#top_ten_salaries.show()\n",
        "df_people = spark.read.csv('People.csv', header=True, inferSchema=True)\n",
        "joined_df = top_ten_salaries.join(df_people, on=['playerID'])\n",
        "joined_df.select(['nameFirst', 'nameLast']).show()"
      ],
      "execution_count": 31,
      "outputs": [
        {
          "output_type": "stream",
          "text": [
            "+---------+---------+\n",
            "|nameFirst| nameLast|\n",
            "+---------+---------+\n",
            "|   Adrian|   Beltre|\n",
            "|   Carlos|  Beltran|\n",
            "|    Barry|    Bonds|\n",
            "|   Miguel|  Cabrera|\n",
            "|    Derek|    Jeter|\n",
            "|   Albert|   Pujols|\n",
            "|    Manny|  Ramirez|\n",
            "|     Alex|Rodriguez|\n",
            "|       CC| Sabathia|\n",
            "|     Mark| Teixeira|\n",
            "+---------+---------+\n",
            "\n"
          ],
          "name": "stdout"
        }
      ]
    }
  ]
}