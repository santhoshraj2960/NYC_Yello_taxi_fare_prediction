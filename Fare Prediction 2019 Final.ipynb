{
 "cells": [
  {
   "cell_type": "code",
   "execution_count": 11,
   "metadata": {},
   "outputs": [],
   "source": [
    "import pyspark\n"
   ]
  },
  {
   "cell_type": "code",
   "execution_count": 12,
   "metadata": {},
   "outputs": [],
   "source": [
    "from pyspark.sql import SparkSession\n",
    "spark = SparkSession.builder.appName('taxi-time-price-prediction').getOrCreate()"
   ]
  },
  {
   "cell_type": "code",
   "execution_count": null,
   "metadata": {},
   "outputs": [],
   "source": [
    "!wget -q https://s3.amazonaws.com/nyc-tlc/trip+data/yellow_tripdata_2020-01.csv\n",
    "!wget -q https://s3.amazonaws.com/nyc-tlc/trip+data/yellow_tripdata_2020-02.csv\n",
    "!wget -q https://s3.amazonaws.com/nyc-tlc/trip+data/yellow_tripdata_2020-03.csv\n",
    "!wget -q https://s3.amazonaws.com/nyc-tlc/trip+data/yellow_tripdata_2020-04.csv\n",
    "!wget -q https://s3.amazonaws.com/nyc-tlc/trip+data/yellow_tripdata_2020-05.csv\n",
    "!wget -q https://s3.amazonaws.com/nyc-tlc/trip+data/yellow_tripdata_2020-06.csv\n",
    "!wget -q https://s3.amazonaws.com/nyc-tlc/trip+data/yellow_tripdata_2019-01.csv\n",
    "!wget -q https://s3.amazonaws.com/nyc-tlc/trip+data/yellow_tripdata_2019-02.csv\n",
    "!wget -q https://s3.amazonaws.com/nyc-tlc/trip+data/yellow_tripdata_2019-03.csv\n",
    "!wget -q https://s3.amazonaws.com/nyc-tlc/trip+data/yellow_tripdata_2019-04.csv\n",
    "!wget -q https://s3.amazonaws.com/nyc-tlc/trip+data/yellow_tripdata_2019-05.csv\n",
    "!wget -q https://s3.amazonaws.com/nyc-tlc/trip+data/yellow_tripdata_2019-06.csv\n",
    "!wget -q https://nyc-tlc.s3.amazonaws.com/trip+data/yellow_tripdata_2019-07.csv\n",
    "!wget -q https://nyc-tlc.s3.amazonaws.com/trip+data/yellow_tripdata_2019-08.csv\n",
    "!wget -q https://nyc-tlc.s3.amazonaws.com/trip+data/yellow_tripdata_2019-09.csv\n",
    "!wget -q https://nyc-tlc.s3.amazonaws.com/trip+data/yellow_tripdata_2019-10.csv\n",
    "!wget -q https://nyc-tlc.s3.amazonaws.com/trip+data/yellow_tripdata_2019-11.csv\n",
    "!wget -q https://nyc-tlc.s3.amazonaws.com/trip+data/yellow_tripdata_2019-12.csv"
   ]
  },
  {
   "cell_type": "code",
   "execution_count": 13,
   "metadata": {},
   "outputs": [],
   "source": [
    "df = spark.read.csv('yellow_tripdata_2020-01.csv', header=True, sep=',', inferSchema=True)\n",
    "\n",
    "for i in range(2, 7):\n",
    "    new_df = spark.read.csv('yellow_tripdata_2020-0{}.csv'.format(str(i)), header=True, sep=',', inferSchema=True)\n",
    "    df = df.union(new_df)\n",
    "\n",
    "'''\n",
    "df = spark.read.csv('yellow_tripdata_2019-01.csv', header=True, sep=',', inferSchema=True)\n",
    "for i in range(2, 13):\n",
    "    if i > 6:\n",
    "        break\n",
    "    if i < 10:\n",
    "        new_df = spark.read.csv('yellow_tripdata_2019-0{}.csv'.format(str(i)), header=True, sep=',', inferSchema=True)\n",
    "    else:\n",
    "        new_df = spark.read.csv('yellow_tripdata_2019-{}.csv'.format(str(i)), header=True, sep=',', inferSchema=True)\n",
    "    df = df.union(new_df)\n",
    "'''\n",
    "df_copy = df"
   ]
  },
  {
   "cell_type": "code",
   "execution_count": 14,
   "metadata": {},
   "outputs": [
    {
     "name": "stdout",
     "output_type": "stream",
     "text": [
      "+---------------------+---------------+-------------+------------+------------+-----------+-------------------+\n",
      "|tpep_dropoff_datetime|passenger_count|trip_distance|PULocationID|DOLocationID|fare_amount|trip_total_distance|\n",
      "+---------------------+---------------+-------------+------------+------------+-----------+-------------------+\n",
      "|  2020-01-01 00:33:03|              1|          1.2|         238|         239|        6.0|                1.0|\n",
      "|  2020-01-01 00:43:04|              1|          1.2|         239|         238|        7.0|                1.0|\n",
      "|  2020-01-01 00:53:52|              1|          0.6|         238|         238|        6.0|                1.0|\n",
      "+---------------------+---------------+-------------+------------+------------+-----------+-------------------+\n",
      "only showing top 3 rows\n",
      "\n"
     ]
    }
   ],
   "source": [
    "#df = spark.read.csv('yellow_tripdata_2020-03.csv', header=True, sep=',', inferSchema=True)\n",
    "import pyspark.sql.functions as f\n",
    "df = df_copy\n",
    "df = df.select(['tpep_dropoff_datetime', 'passenger_count', 'trip_distance', 'PULocationID', 'DOLocationID', 'fare_amount'])\n",
    "df = df.dropna(how = 'any')\n",
    "df = df.withColumn('trip_total_distance', f.round(df['trip_distance']))\n",
    "df.show(3)\n",
    "desc_df = df.describe()"
   ]
  },
  {
   "cell_type": "code",
   "execution_count": 15,
   "metadata": {},
   "outputs": [
    {
     "name": "stdout",
     "output_type": "stream",
     "text": [
      "+-----------+------+\n",
      "|hour_of_day| count|\n",
      "+-----------+------+\n",
      "|         18|805477|\n",
      "|         19|766386|\n",
      "|         17|705854|\n",
      "|         15|669778|\n",
      "|         20|667745|\n",
      "|         21|661154|\n",
      "|         16|644848|\n",
      "|         22|630899|\n",
      "|         14|630378|\n",
      "|         13|597959|\n",
      "|         12|589734|\n",
      "|         11|546579|\n",
      "|          9|543770|\n",
      "|         10|538009|\n",
      "|          8|515118|\n",
      "|         23|496721|\n",
      "|          7|388704|\n",
      "|          0|360487|\n",
      "|          1|250194|\n",
      "|          6|208320|\n",
      "|          2|173407|\n",
      "|          3|123971|\n",
      "|          4| 95703|\n",
      "|          5| 92304|\n",
      "+-----------+------+\n",
      "\n",
      "+-----------+-------+\n",
      "|day_of_week|  count|\n",
      "+-----------+-------+\n",
      "|          5|1872842|\n",
      "|          6|1855063|\n",
      "|          4|1803905|\n",
      "|          7|1641785|\n",
      "|          3|1618998|\n",
      "|          2|1478428|\n",
      "|          1|1432478|\n",
      "+-----------+-------+\n",
      "\n",
      "{4, 5, 6, 7}\n",
      "{11, 12, 13, 14, 15, 16, 17, 18, 19, 20, 21, 22}\n",
      "+---------------------+---------------+-------------+------------+------------+-----------+-------------------+-----------+-----------+------------------+------------------+\n",
      "|tpep_dropoff_datetime|passenger_count|trip_distance|PULocationID|DOLocationID|fare_amount|trip_total_distance|day_of_week|hour_of_day|active_day_of_week|active_hour_of_day|\n",
      "+---------------------+---------------+-------------+------------+------------+-----------+-------------------+-----------+-----------+------------------+------------------+\n",
      "|  2020-01-01 00:33:03|              1|          1.2|         238|         239|        6.0|                1.0|          4|          0|                 1|                 0|\n",
      "|  2020-01-01 00:43:04|              1|          1.2|         239|         238|        7.0|                1.0|          4|          0|                 1|                 0|\n",
      "|  2020-01-01 01:12:03|              2|          2.4|         246|          79|       12.0|                2.0|          4|          1|                 1|                 0|\n",
      "|  2020-01-01 01:21:44|              1|          3.3|         161|         144|       17.0|                3.0|          4|          1|                 1|                 0|\n",
      "|  2020-01-01 00:27:31|              1|         1.07|          43|         239|        6.0|                1.0|          4|          0|                 1|                 0|\n",
      "|  2020-01-01 01:15:21|              1|         7.76|         143|          25|       28.5|                8.0|          4|          1|                 1|                 0|\n",
      "|  2020-01-01 00:27:06|              3|          1.6|         211|         234|        9.0|                2.0|          4|          0|                 1|                 0|\n",
      "|  2020-01-01 01:13:34|              1|          1.7|         246|         142|       11.5|                2.0|          4|          1|                 1|                 0|\n",
      "|  2020-01-01 00:25:29|              1|         8.45|         138|         216|       24.5|                8.0|          4|          0|                 1|                 0|\n",
      "|  2020-01-01 00:41:59|              1|          1.5|         170|         161|        9.5|                2.0|          4|          0|                 1|                 0|\n",
      "|  2020-01-01 01:17:42|              1|          2.9|         161|         262|       19.0|                3.0|          4|          1|                 1|                 0|\n",
      "|  2020-01-01 00:38:46|              1|          1.9|         236|         162|       10.5|                2.0|          4|          0|                 1|                 0|\n",
      "|  2020-01-01 01:19:57|              1|          4.2|          50|         261|       18.0|                4.0|          4|          1|                 1|                 0|\n",
      "|  2020-01-01 00:35:56|              2|          1.5|         142|         236|        7.5|                2.0|          4|          0|                 1|                 0|\n",
      "|  2020-01-01 00:40:35|              1|         5.73|         246|         112|       21.0|                6.0|          4|          0|                 1|                 0|\n",
      "|  2020-01-01 00:28:54|              1|         2.12|          24|         236|        9.0|                2.0|          4|          0|                 1|                 0|\n",
      "|  2020-01-01 01:03:27|              2|          5.7|         234|         238|       25.5|                6.0|          4|          1|                 1|                 0|\n",
      "|  2020-01-01 00:09:22|              1|          1.2|         232|          79|        6.5|                1.0|          4|          0|                 1|                 0|\n",
      "|  2020-01-01 00:33:24|              1|          1.3|          79|         233|        8.5|                1.0|          4|          0|                 1|                 0|\n",
      "|  2020-01-01 00:43:40|              2|          3.9|         148|          49|       14.5|                4.0|          4|          0|                 1|                 0|\n",
      "+---------------------+---------------+-------------+------------+------------+-----------+-------------------+-----------+-----------+------------------+------------------+\n",
      "only showing top 20 rows\n",
      "\n",
      "+---------------+-------------+------------------+------------------+------------+------------+-----------+\n",
      "|passenger_count|trip_distance|active_day_of_week|active_hour_of_day|PULocationID|DOLocationID|fare_amount|\n",
      "+---------------+-------------+------------------+------------------+------------+------------+-----------+\n",
      "|              1|          1.2|                 1|                 0|         238|         239|        6.0|\n",
      "|              1|          1.2|                 1|                 0|         239|         238|        7.0|\n",
      "|              2|          2.4|                 1|                 0|         246|          79|       12.0|\n",
      "|              1|          3.3|                 1|                 0|         161|         144|       17.0|\n",
      "|              1|         1.07|                 1|                 0|          43|         239|        6.0|\n",
      "|              1|         7.76|                 1|                 0|         143|          25|       28.5|\n",
      "|              3|          1.6|                 1|                 0|         211|         234|        9.0|\n",
      "|              1|          1.7|                 1|                 0|         246|         142|       11.5|\n",
      "|              1|         8.45|                 1|                 0|         138|         216|       24.5|\n",
      "|              1|          1.5|                 1|                 0|         170|         161|        9.5|\n",
      "|              1|          2.9|                 1|                 0|         161|         262|       19.0|\n",
      "|              1|          1.9|                 1|                 0|         236|         162|       10.5|\n",
      "|              1|          4.2|                 1|                 0|          50|         261|       18.0|\n",
      "|              2|          1.5|                 1|                 0|         142|         236|        7.5|\n",
      "|              1|         5.73|                 1|                 0|         246|         112|       21.0|\n",
      "|              1|         2.12|                 1|                 0|          24|         236|        9.0|\n",
      "|              2|          5.7|                 1|                 0|         234|         238|       25.5|\n",
      "|              1|          1.2|                 1|                 0|         232|          79|        6.5|\n",
      "|              1|          1.3|                 1|                 0|          79|         233|        8.5|\n",
      "|              2|          3.9|                 1|                 0|         148|          49|       14.5|\n",
      "+---------------+-------------+------------------+------------------+------------+------------+-----------+\n",
      "only showing top 20 rows\n",
      "\n",
      "+---------------+-------------+------------------+------------------+------------+------------+-----------+\n",
      "|passenger_count|trip_distance|active_day_of_week|active_hour_of_day|PULocationID|DOLocationID|fare_amount|\n",
      "+---------------+-------------+------------------+------------------+------------+------------+-----------+\n",
      "|              1|          1.2|                 1|                 0|         238|         239|        6.0|\n",
      "|              1|          1.2|                 1|                 0|         239|         238|        7.0|\n",
      "|              2|          2.4|                 1|                 0|         246|          79|       12.0|\n",
      "|              1|          3.3|                 1|                 0|         161|         144|       17.0|\n",
      "|              1|         1.07|                 1|                 0|          43|         239|        6.0|\n",
      "|              1|         7.76|                 1|                 0|         143|          25|       28.5|\n",
      "|              3|          1.6|                 1|                 0|         211|         234|        9.0|\n",
      "|              1|          1.7|                 1|                 0|         246|         142|       11.5|\n",
      "|              1|         8.45|                 1|                 0|         138|         216|       24.5|\n",
      "|              1|          1.5|                 1|                 0|         170|         161|        9.5|\n",
      "|              1|          2.9|                 1|                 0|         161|         262|       19.0|\n",
      "|              1|          1.9|                 1|                 0|         236|         162|       10.5|\n",
      "|              1|          4.2|                 1|                 0|          50|         261|       18.0|\n",
      "|              2|          1.5|                 1|                 0|         142|         236|        7.5|\n",
      "|              1|         5.73|                 1|                 0|         246|         112|       21.0|\n",
      "|              1|         2.12|                 1|                 0|          24|         236|        9.0|\n",
      "|              2|          5.7|                 1|                 0|         234|         238|       25.5|\n",
      "|              1|          1.2|                 1|                 0|         232|          79|        6.5|\n",
      "|              1|          1.3|                 1|                 0|          79|         233|        8.5|\n",
      "|              2|          3.9|                 1|                 0|         148|          49|       14.5|\n",
      "+---------------+-------------+------------------+------------------+------------+------------+-----------+\n",
      "only showing top 20 rows\n",
      "\n"
     ]
    }
   ],
   "source": [
    "#print(df.dtypes)\n",
    "#desc_df.show()\n",
    "df = df[df.fare_amount > 1]\n",
    "df = df[df.trip_distance > 1]\n",
    "df = df[df.trip_distance < 35]\n",
    "df = df[df.passenger_count > 0]\n",
    "\n",
    "df = df.withColumn('day_of_week', f.dayofweek(df['tpep_dropoff_datetime']))\n",
    "df = df.withColumn('hour_of_day', f.hour(df['tpep_dropoff_datetime']))\n",
    "\n",
    "df_hour = df.groupBy('hour_of_day').count()\n",
    "most_active_hours = df_hour.sort(['count'], ascending=False)\n",
    "most_active_hours.show(25)\n",
    "most_active_hours = most_active_hours.limit(12)\n",
    "\n",
    "df_day_of_week = df.groupBy('day_of_week').count()\n",
    "most_active_days_of_week = df_day_of_week.sort(['count'], ascending=False)\n",
    "most_active_days_of_week.show()\n",
    "most_active_days_of_week = most_active_days_of_week.limit(4)\n",
    "\n",
    "\n",
    "hours = most_active_hours.select('hour_of_day')\n",
    "days = most_active_days_of_week.select('day_of_week')\n",
    "\n",
    "from pyspark.sql.functions import lit, when\n",
    "\n",
    "from pyspark.sql.functions import lit, when    # to add a column filled with a constant value\n",
    "days_list = set([int(row.day_of_week) for row in days.collect()])\n",
    "print(days_list)\n",
    "hours_list = set([int(row.hour_of_day) for row in hours.collect()])\n",
    "print(hours_list)\n",
    "df = df.withColumn('active_day_of_week',when(df.day_of_week.isin(days_list), 1).otherwise(0))\n",
    "df = df.withColumn('active_hour_of_day',when(df.hour_of_day.isin(hours_list), 1).otherwise(0))\n",
    "df.show()\n",
    "\n",
    "df = df.select(['passenger_count', 'trip_distance', 'active_day_of_week', 'active_hour_of_day','PULocationID','DOLocationID', 'fare_amount'])\n",
    "df.where(df['active_day_of_week'] > 0).show()\n",
    "df.show()\n"
   ]
  },
  {
   "cell_type": "code",
   "execution_count": 16,
   "metadata": {},
   "outputs": [
    {
     "name": "stdout",
     "output_type": "stream",
     "text": [
      "+---------------+-------------+------------------+------------------+------------+------------+-----------+--------------------+\n",
      "|passenger_count|trip_distance|active_day_of_week|active_hour_of_day|PULocationID|DOLocationID|fare_amount|            features|\n",
      "+---------------+-------------+------------------+------------------+------------+------------+-----------+--------------------+\n",
      "|              1|          1.2|                 1|                 0|         238|         239|        6.0|[1.0,1.2,1.0,0.0,...|\n",
      "|              1|          1.2|                 1|                 0|         239|         238|        7.0|[1.0,1.2,1.0,0.0,...|\n",
      "|              2|          2.4|                 1|                 0|         246|          79|       12.0|[2.0,2.4,1.0,0.0,...|\n",
      "|              1|          3.3|                 1|                 0|         161|         144|       17.0|[1.0,3.3,1.0,0.0,...|\n",
      "|              1|         1.07|                 1|                 0|          43|         239|        6.0|[1.0,1.07,1.0,0.0...|\n",
      "|              1|         7.76|                 1|                 0|         143|          25|       28.5|[1.0,7.76,1.0,0.0...|\n",
      "|              3|          1.6|                 1|                 0|         211|         234|        9.0|[3.0,1.6,1.0,0.0,...|\n",
      "|              1|          1.7|                 1|                 0|         246|         142|       11.5|[1.0,1.7,1.0,0.0,...|\n",
      "|              1|         8.45|                 1|                 0|         138|         216|       24.5|[1.0,8.45,1.0,0.0...|\n",
      "|              1|          1.5|                 1|                 0|         170|         161|        9.5|[1.0,1.5,1.0,0.0,...|\n",
      "|              1|          2.9|                 1|                 0|         161|         262|       19.0|[1.0,2.9,1.0,0.0,...|\n",
      "|              1|          1.9|                 1|                 0|         236|         162|       10.5|[1.0,1.9,1.0,0.0,...|\n",
      "|              1|          4.2|                 1|                 0|          50|         261|       18.0|[1.0,4.2,1.0,0.0,...|\n",
      "|              2|          1.5|                 1|                 0|         142|         236|        7.5|[2.0,1.5,1.0,0.0,...|\n",
      "|              1|         5.73|                 1|                 0|         246|         112|       21.0|[1.0,5.73,1.0,0.0...|\n",
      "|              1|         2.12|                 1|                 0|          24|         236|        9.0|[1.0,2.12,1.0,0.0...|\n",
      "|              2|          5.7|                 1|                 0|         234|         238|       25.5|[2.0,5.7,1.0,0.0,...|\n",
      "|              1|          1.2|                 1|                 0|         232|          79|        6.5|[1.0,1.2,1.0,0.0,...|\n",
      "|              1|          1.3|                 1|                 0|          79|         233|        8.5|[1.0,1.3,1.0,0.0,...|\n",
      "|              2|          3.9|                 1|                 0|         148|          49|       14.5|[2.0,3.9,1.0,0.0,...|\n",
      "+---------------+-------------+------------------+------------------+------------+------------+-----------+--------------------+\n",
      "only showing top 20 rows\n",
      "\n",
      "+---------------+-------------+------------------+------------------+------------+------------+-----------+--------------------+------------------+\n",
      "|passenger_count|trip_distance|active_day_of_week|active_hour_of_day|PULocationID|DOLocationID|fare_amount|            features|        prediction|\n",
      "+---------------+-------------+------------------+------------------+------------+------------+-----------+--------------------+------------------+\n",
      "|              1|        10.01|                 1|                 0|         107|         257|       30.0|[1.0,10.01,1.0,0....|31.606733390860274|\n",
      "|              1|        10.01|                 1|                 0|         132|          72|       30.5|[1.0,10.01,1.0,0....|31.687718297984926|\n",
      "|              1|        10.01|                 1|                 0|         230|         138|       29.0|[1.0,10.01,1.0,0....|31.730092711271016|\n",
      "|              1|        10.01|                 1|                 0|         234|         138|       28.5|[1.0,10.01,1.0,0....|  31.7327588933394|\n",
      "|              1|        10.01|                 1|                 0|         237|         138|       30.0|[1.0,10.01,1.0,0....|31.734758529890687|\n",
      "|              1|        10.01|                 1|                 0|         249|         243|       30.0|[1.0,10.01,1.0,0....| 31.70625040979469|\n",
      "|              1|        10.01|                 1|                 1|         138|          48|       32.5|[1.0,10.01,1.0,1....|32.333401855893186|\n",
      "|              1|        10.01|                 1|                 1|         138|         189|       30.5|[1.0,10.01,1.0,1....|32.284378618288784|\n",
      "|              1|        10.01|                 1|                 1|         138|         230|       34.5|[1.0,10.01,1.0,1....| 32.27012363430453|\n",
      "|              1|        10.01|                 1|                 1|         138|         262|       31.5|[1.0,10.01,1.0,1....| 32.25899779314609|\n",
      "|              1|        10.01|                 1|                 1|         161|          95|       34.0|[1.0,10.01,1.0,1....| 32.33239132358492|\n",
      "|              1|        10.02|                 1|                 0|         132|          37|       30.0|[1.0,10.02,1.0,0....|31.726835953686702|\n",
      "|              1|        10.02|                 1|                 0|         132|          39|       30.5|[1.0,10.02,1.0,0....|  31.7261405886143|\n",
      "|              1|        10.02|                 1|                 0|         132|          93|       27.5|[1.0,10.02,1.0,0....|31.707365731659426|\n",
      "|              1|        10.02|                 1|                 0|         163|         258|       32.0|[1.0,10.02,1.0,0....|31.670661024216162|\n",
      "|              1|        10.02|                 1|                 1|         138|         161|       33.0|[1.0,10.02,1.0,1....|32.321062496237154|\n",
      "|              1|        10.02|                 1|                 1|         138|         230|       35.5|[1.0,10.02,1.0,1....| 32.29707240123926|\n",
      "|              1|        10.02|                 1|                 1|         138|         238|       30.5|[1.0,10.02,1.0,1....| 32.29429094094965|\n",
      "|              1|        10.02|                 1|                 1|         236|         225|       32.5|[1.0,10.02,1.0,1....|32.364132274595654|\n",
      "|              1|        10.03|                 1|                 0|          90|         138|       29.0|[1.0,10.03,1.0,0....|31.690673872747073|\n",
      "+---------------+-------------+------------------+------------------+------------+------------+-----------+--------------------+------------------+\n",
      "only showing top 20 rows\n",
      "\n"
     ]
    }
   ],
   "source": [
    "from pyspark.ml.feature import VectorAssembler\n",
    "assembler = VectorAssembler(inputCols=df.columns[0:6], outputCol=\"features\")\n",
    "df_vec = assembler.transform(df)\n",
    "df_vec.show()\n",
    "df_train, df_test = df_vec.randomSplit([0.7, 0.3])\n",
    "from pyspark.ml.regression import LinearRegression\n",
    "lr = LinearRegression(featuresCol='features', labelCol='fare_amount') \n",
    "lr_model = lr.fit(df_train)\n",
    "evaluation_summary = lr_model.evaluate(df_test)\n",
    "evaluation_summary.predictions.where(df['trip_distance'] > 10).show()"
   ]
  },
  {
   "cell_type": "code",
   "execution_count": 18,
   "metadata": {},
   "outputs": [
    {
     "name": "stdout",
     "output_type": "stream",
     "text": [
      "11703499\n"
     ]
    }
   ],
   "source": [
    "print(df.count())"
   ]
  },
  {
   "cell_type": "code",
   "execution_count": 17,
   "metadata": {},
   "outputs": [
    {
     "name": "stdout",
     "output_type": "stream",
     "text": [
      "4.0156072275787675\n",
      "16.12510140618284\n"
     ]
    }
   ],
   "source": [
    "print(evaluation_summary.rootMeanSquaredError)\n",
    "print(evaluation_summary.meanSquaredError)\n",
    "#print(evaluation_summary.accuracy)"
   ]
  },
  {
   "cell_type": "code",
   "execution_count": 19,
   "metadata": {},
   "outputs": [
    {
     "name": "stdout",
     "output_type": "stream",
     "text": [
      "+---------------+-------------+------------------+------------------+------------+------------+-----------+--------------------+------------------+\n",
      "|passenger_count|trip_distance|active_day_of_week|active_hour_of_day|PULocationID|DOLocationID|fare_amount|            features|        prediction|\n",
      "+---------------+-------------+------------------+------------------+------------+------------+-----------+--------------------+------------------+\n",
      "|              1|         1.01|                 1|                 0|          24|          75|        6.0|[1.0,1.01,1.0,0.0...|  7.36079809327256|\n",
      "|              1|         1.01|                 1|                 0|          43|         161|        5.0|[1.0,1.01,1.0,0.0...| 7.343561759984059|\n",
      "|              1|         1.01|                 1|                 0|          48|          43|        6.5|[1.0,1.01,1.0,0.0...| 7.387921026841302|\n",
      "|              1|         1.01|                 1|                 0|          48|         100|        5.5|[1.0,1.01,1.0,0.0...| 7.368103122277823|\n",
      "|              1|         1.01|                 1|                 0|          48|         142|        5.5|[1.0,1.01,1.0,0.0...| 7.353500455757365|\n",
      "|              1|         1.01|                 1|                 0|          48|         161|        5.5|[1.0,1.01,1.0,0.0...| 7.346894487569538|\n",
      "|              1|         1.01|                 1|                 0|          48|         230|        7.0|[1.0,1.01,1.0,0.0...| 7.322904392571642|\n",
      "|              1|         1.01|                 1|                 0|          48|         237|        6.0|[1.0,1.01,1.0,0.0...| 7.320470614818233|\n",
      "|              1|         1.01|                 1|                 0|          50|         100|        6.5|[1.0,1.01,1.0,0.0...| 7.369436213312014|\n",
      "|              1|         1.01|                 1|                 0|          50|         246|        5.0|[1.0,1.01,1.0,0.0...| 7.318674563026612|\n",
      "|              1|         1.01|                 1|                 0|          68|          68|        5.0|[1.0,1.01,1.0,0.0...| 7.392559873778183|\n",
      "|              1|         1.01|                 1|                 0|          68|         170|        6.5|[1.0,1.01,1.0,0.0...| 7.357096255085641|\n",
      "|              1|         1.01|                 1|                 0|          75|         238|        5.5|[1.0,1.01,1.0,0.0...| 7.338119661243617|\n",
      "|              1|         1.01|                 1|                 0|          79|         107|        5.0|[1.0,1.01,1.0,0.0...|7.3863322555543816|\n",
      "|              1|         1.01|                 1|                 0|          79|         107|        5.5|[1.0,1.01,1.0,0.0...|7.3863322555543816|\n",
      "|              1|         1.01|                 1|                 0|          79|         137|        5.0|[1.0,1.01,1.0,0.0...|7.3759017794683395|\n",
      "|              1|         1.01|                 1|                 0|          79|         137|        6.0|[1.0,1.01,1.0,0.0...|7.3759017794683395|\n",
      "|              1|         1.01|                 1|                 0|          79|         144|        6.0|[1.0,1.01,1.0,0.0...| 7.373468001714929|\n",
      "|              1|         1.01|                 1|                 0|          79|         234|        6.0|[1.0,1.01,1.0,0.0...| 7.342176573456805|\n",
      "|              1|         1.01|                 1|                 0|          79|         249|        6.5|[1.0,1.01,1.0,0.0...| 7.336961335413784|\n",
      "+---------------+-------------+------------------+------------------+------------+------------+-----------+--------------------+------------------+\n",
      "only showing top 20 rows\n",
      "\n",
      "<class 'pyspark.sql.dataframe.DataFrame'>\n"
     ]
    },
    {
     "data": {
      "text/plain": [
       "<AxesSubplot:>"
      ]
     },
     "execution_count": 19,
     "metadata": {},
     "output_type": "execute_result"
    },
    {
     "data": {
      "image/png": "[encoded data removed]",
      "text/plain": [
       "<Figure size 432x288 with 1 Axes>"
      ]
     },
     "metadata": {
      "needs_background": "light"
     },
     "output_type": "display_data"
    }
   ],
   "source": [
    "predictions_df = evaluation_summary.predictions\n",
    "predictions_df.show()\n",
    "predictions_df = predictions_df.orderBy(f.rand()).limit(100)\n",
    "import matplotlib.pyplot as plt\n",
    "plt.close('all')\n",
    "print(type(predictions_df))\n",
    "predictions_df = predictions_df.toPandas()\n",
    "predictions_df.plot(y=[\"fare_amount\", \"prediction\"])\n"
   ]
  },
  {
   "cell_type": "code",
   "execution_count": 20,
   "metadata": {},
   "outputs": [
    {
     "data": {
      "text/plain": [
       "<AxesSubplot:xlabel='hour_of_day'>"
      ]
     },
     "execution_count": 20,
     "metadata": {},
     "output_type": "execute_result"
    },
    {
     "data": {
      "image/png": "[encoded data removed]",
      "text/plain": [
       "<Figure size 432x288 with 1 Axes>"
      ]
     },
     "metadata": {
      "needs_background": "light"
     },
     "output_type": "display_data"
    }
   ],
   "source": [
    "df_day_of_week_pd = df_day_of_week.toPandas()\n",
    "df_hour_pd = df_hour.toPandas()\n",
    "df_hour_pd = df_hour_pd.sort_values(by='hour_of_day')\n",
    "df_hour_pd.plot(x=\"hour_of_day\", y=\"count\", kind=\"bar\")"
   ]
  },
  {
   "cell_type": "code",
   "execution_count": 21,
   "metadata": {},
   "outputs": [
    {
     "data": {
      "text/plain": [
       "<AxesSubplot:xlabel='day_of_week'>"
      ]
     },
     "execution_count": 21,
     "metadata": {},
     "output_type": "execute_result"
    },
    {
     "data": {
      "image/png": "[encoded data removed]",
      "text/plain": [
       "<Figure size 432x288 with 1 Axes>"
      ]
     },
     "metadata": {
      "needs_background": "light"
     },
     "output_type": "display_data"
    }
   ],
   "source": [
    "df_day_of_week_pd = df_day_of_week_pd.sort_values(by='day_of_week')\n",
    "df_day_of_week_pd.plot(x=\"day_of_week\", y=\"count\", kind=\"bar\")"
   ]
  },
  {
   "cell_type": "code",
   "execution_count": 22,
   "metadata": {},
   "outputs": [
    {
     "data": {
      "text/plain": [
       "<AxesSubplot:xlabel='PULocationID'>"
      ]
     },
     "execution_count": 22,
     "metadata": {},
     "output_type": "execute_result"
    },
    {
     "data": {
      "image/png": "[encoded data removed]",
      "text/plain": [
       "<Figure size 432x288 with 1 Axes>"
      ]
     },
     "metadata": {
      "needs_background": "light"
     },
     "output_type": "display_data"
    }
   ],
   "source": [
    "pickup_groupby_pd = predictions_df.groupby('PULocationID').mean('fare_amount').sort_values(by='fare_amount', ascending=False).head(10)\n",
    "pickup_groupby_pd.reset_index().plot(x=\"PULocationID\", y=\"fare_amount\", kind=\"bar\")"
   ]
  },
  {
   "cell_type": "code",
   "execution_count": 23,
   "metadata": {},
   "outputs": [
    {
     "data": {
      "text/plain": [
       "<AxesSubplot:xlabel='DOLocationID'>"
      ]
     },
     "execution_count": 23,
     "metadata": {},
     "output_type": "execute_result"
    },
    {
     "data": {
      "image/png": "[encoded data removed]",
      "text/plain": [
       "<Figure size 432x288 with 1 Axes>"
      ]
     },
     "metadata": {
      "needs_background": "light"
     },
     "output_type": "display_data"
    }
   ],
   "source": [
    "dropoff_groupby_pd = predictions_df.groupby('DOLocationID').mean('fare_amount').sort_values(by='fare_amount', ascending=False).head(10)\n",
    "dropoff_groupby_pd.reset_index().plot(x=\"DOLocationID\", y=\"fare_amount\", kind=\"bar\")"
   ]
  },
  {
   "cell_type": "code",
   "execution_count": 33,
   "metadata": {},
   "outputs": [
    {
     "name": "stdout",
     "output_type": "stream",
     "text": [
      "                 trip_distance  active_day_of_week  active_hour_of_day  \\\n",
      "passenger_count                                                          \n",
      "1                          742                 742                 742   \n",
      "2                          143                 143                 143   \n",
      "3                           37                  37                  37   \n",
      "4                           20                  20                  20   \n",
      "5                           40                  40                  40   \n",
      "6                           18                  18                  18   \n",
      "\n",
      "                 PULocationID  DOLocationID  fare_amount  features  prediction  \n",
      "passenger_count                                                                 \n",
      "1                         742           742          742       742         742  \n",
      "2                         143           143          143       143         143  \n",
      "3                          37            37           37        37          37  \n",
      "4                          20            20           20        20          20  \n",
      "5                          40            40           40        40          40  \n",
      "6                          18            18           18        18          18  \n"
     ]
    },
    {
     "data": {
      "image/png": "[encoded data removed]",
      "text/plain": [
       "<Figure size 432x288 with 1 Axes>"
      ]
     },
     "metadata": {
      "needs_background": "light"
     },
     "output_type": "display_data"
    }
   ],
   "source": [
    "dropoff_groupby_pd = predictions_df.groupby('passenger_count').mean('fare_amount').sort_values(by='passenger_count').head(5)\n",
    "dropoff_groupby_pd.reset_index().plot(x=\"passenger_count\", y=\"fare_amount\", kind=\"bar\")\n"
   ]
  },
  {
   "cell_type": "code",
   "execution_count": 34,
   "metadata": {},
   "outputs": [
    {
     "name": "stdout",
     "output_type": "stream",
     "text": [
      "                 trip_distance  active_day_of_week  active_hour_of_day  \\\n",
      "passenger_count                                                          \n",
      "1                          742                 742                 742   \n",
      "2                          143                 143                 143   \n",
      "3                           37                  37                  37   \n",
      "4                           20                  20                  20   \n",
      "5                           40                  40                  40   \n",
      "6                           18                  18                  18   \n",
      "\n",
      "                 PULocationID  DOLocationID  fare_amount  features  prediction  \n",
      "passenger_count                                                                 \n",
      "1                         742           742          742       742         742  \n",
      "2                         143           143          143       143         143  \n",
      "3                          37            37           37        37          37  \n",
      "4                          20            20           20        20          20  \n",
      "5                          40            40           40        40          40  \n",
      "6                          18            18           18        18          18  \n"
     ]
    }
   ],
   "source": [
    "print(predictions_df.groupby('passenger_count').count())"
   ]
  },
  {
   "cell_type": "code",
   "execution_count": 2,
   "metadata": {
    "scrolled": false
   },
   "outputs": [
    {
     "data": {
      "text/plain": [
       "'predictions_df = evaluation_summary.predictions\\npredictions_df.show()\\npredictions_df = predictions_df.orderBy(f.rand()).limit(1000)\\nimport matplotlib.pyplot as plt\\nplt.close(\\'all\\')\\nprint(type(predictions_df))\\npredictions_df = predictions_df.toPandas()\\npredictions_df.plot(x =\"fare_amount\", y =\"prediction\")\\nprint()'"
      ]
     },
     "execution_count": 2,
     "metadata": {},
     "output_type": "execute_result"
    }
   ],
   "source": [
    "predictions_df = evaluation_summary.predictions\n",
    "predictions_df.show()\n",
    "predictions_df = predictions_df.orderBy(f.rand()).limit(1000)\n",
    "import matplotlib.pyplot as plt\n",
    "plt.close('all')\n",
    "print(type(predictions_df))\n",
    "predictions_df = predictions_df.toPandas()\n",
    "predictions_df.plot(x =\"fare_amount\", y =\"prediction\")"
   ]
  },
  {
   "cell_type": "code",
   "execution_count": null,
   "metadata": {},
   "outputs": [],
   "source": []
  }
 ],
 "metadata": {
  "kernelspec": {
   "display_name": "Python 3",
   "language": "python",
   "name": "python3"
  },
  "language_info": {
   "codemirror_mode": {
    "name": "ipython",
    "version": 3
   },
   "file_extension": ".py",
   "mimetype": "text/x-python",
   "name": "python",
   "nbconvert_exporter": "python",
   "pygments_lexer": "ipython3",
   "version": "3.8.5"
  }
 },
 "nbformat": 4,
 "nbformat_minor": 4
}
